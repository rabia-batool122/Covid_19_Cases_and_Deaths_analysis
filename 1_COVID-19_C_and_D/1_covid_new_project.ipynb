{
 "cells": [
  {
   "cell_type": "markdown",
   "id": "75f6051b",
   "metadata": {},
   "source": [
    "# What are the total number of deaths in each Continent?\n",
    "### What are the top 5 countries for most deaths in each continent?\n",
    "### What are the top 5 countries for most reported cases in each continent?\n",
    "### What are the total number of reported cases and deaths in each continent (a comparison of cases and deaths)?\n",
    "- Clean-up total_deaths column\n",
    "- Calculate number of deaths by Continent\n",
    "- Calculate Death percentage\n",
    "- Plot final calculations "
   ]
  },
  {
   "cell_type": "code",
   "execution_count": null,
   "id": "8f2ff6ec",
   "metadata": {},
   "outputs": [],
   "source": [
    "import kagglehub\n",
    "\n",
    "# Download latest version\n",
    "path = kagglehub.dataset_download(\"bolkonsky/covid19\")\n",
    "\n",
    "print(\"Path to dataset files:\", path)"
   ]
  },
  {
   "cell_type": "code",
   "execution_count": null,
   "id": "22796337",
   "metadata": {},
   "outputs": [],
   "source": [
    "import pandas as pd\n",
    "from datasets import load_dataset\n",
    "import matplotlib.pyplot as plt\n",
    "import seaborn as sns\n",
    "\n",
    "path = 'owid-covid-data.csv'\n",
    "df = pd.read_csv(path)\n",
    "df.copy()\n"
   ]
  },
  {
   "cell_type": "code",
   "execution_count": null,
   "id": "8da37e17",
   "metadata": {},
   "outputs": [],
   "source": [
    "df['date'] = pd.to_datetime(df['date'])"
   ]
  },
  {
   "cell_type": "code",
   "execution_count": null,
   "id": "b3e8937e",
   "metadata": {},
   "outputs": [],
   "source": [
    "df_continents = df.continent.unique().tolist()"
   ]
  },
  {
   "cell_type": "code",
   "execution_count": null,
   "id": "93dd48a4",
   "metadata": {},
   "outputs": [],
   "source": [
    "df_continents = df.continent.dropna().to_frame()\n",
    "df_continents"
   ]
  },
  {
   "cell_type": "code",
   "execution_count": null,
   "id": "a47e9054",
   "metadata": {},
   "outputs": [],
   "source": [
    "# continent_dfs = {}\n",
    "\n",
    "# df_continent_list = df.continent.unique().tolist()\n",
    "# for cont in df_continent_list:\n",
    "#     temp_df = df[df['continent'] == cont]\n",
    "    \n",
    "#     continent_dfs[cont] = temp_df\n",
    "    \n",
    "# print(continent_dfs['South America'].head())"
   ]
  },
  {
   "cell_type": "code",
   "execution_count": null,
   "id": "507a4b4b",
   "metadata": {},
   "outputs": [],
   "source": [
    "df['total_deaths'] = df['total_deaths'].fillna(0).astype(int)"
   ]
  },
  {
   "cell_type": "code",
   "execution_count": null,
   "id": "42fdbf88",
   "metadata": {},
   "outputs": [],
   "source": [
    "df['total_cases'] = df['total_cases'].fillna(0).astype(int)\n",
    "df"
   ]
  },
  {
   "cell_type": "code",
   "execution_count": null,
   "id": "ef948e18",
   "metadata": {},
   "outputs": [],
   "source": [
    "df_continent_country = df.groupby(['continent', 'location'])[['total_cases', 'total_deaths']].sum()\n",
    "df_continent_country = df_continent_country.reset_index()\n",
    "df_continent_country"
   ]
  },
  {
   "cell_type": "code",
   "execution_count": null,
   "id": "49238d9e",
   "metadata": {},
   "outputs": [],
   "source": [
    "df_continent = df.groupby('continent')[['total_cases', 'total_deaths']].sum().reset_index()\n",
    "df_continent"
   ]
  }
 ],
 "metadata": {
  "kernelspec": {
   "display_name": "covid_env",
   "language": "python",
   "name": "python3"
  },
  "language_info": {
   "codemirror_mode": {
    "name": "ipython",
    "version": 3
   },
   "file_extension": ".py",
   "mimetype": "text/x-python",
   "name": "python",
   "nbconvert_exporter": "python",
   "pygments_lexer": "ipython3",
   "version": "3.13.5"
  }
 },
 "nbformat": 4,
 "nbformat_minor": 5
}
